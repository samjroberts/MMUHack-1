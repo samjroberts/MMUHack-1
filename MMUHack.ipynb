{
 "cells": [
  {
   "cell_type": "markdown",
   "metadata": {
    "deletable": true,
    "editable": true
   },
   "source": [
    "## TO DO\n",
    "### Poly Area of 1/2 mile radius\n",
    "### Multiple Months \n",
    "### Types of crimes"
   ]
  },
  {
   "cell_type": "code",
   "execution_count": 155,
   "metadata": {
    "collapsed": false,
    "deletable": true,
    "editable": true
   },
   "outputs": [],
   "source": [
    "import json\n",
    "import csv\n",
    "import datetime as dt\n",
    "import requests\n",
    "from bs4 import BeautifulSoup as bs\n",
    "import numpy as np"
   ]
  },
  {
   "cell_type": "code",
   "execution_count": null,
   "metadata": {
    "collapsed": true,
    "deletable": true,
    "editable": true
   },
   "outputs": [],
   "source": [
    "def crime_coords(x,y):\n",
    "    date = dt.date.today()\n",
    "    date = str(date.year)+\"-\"+str(date.month-2)\n",
    "\n",
    "    inp_n = x\n",
    "    inp_e = y\n",
    "\n",
    "    url = \"https://data.police.uk/api/crimes-street/all-crime?lat=%s&lng=%s&date=%s\" \\\n",
    "    %(str(inp_n),str(inp_e),date)\n",
    "\n",
    "    url_json = requests.get(url).json()\n",
    "\n",
    "    lats = []\n",
    "    longs = [] \n",
    "\n",
    "    for i in range(len(url_json)):\n",
    "        lats.append(url_json[i]['location']['latitude'])\n",
    "        longs.append(url_json[i]['location']['longitude'])\n",
    "\n",
    "return np.column_stack((lats,longs))"
   ]
  }
 ],
 "metadata": {
  "kernelspec": {
   "display_name": "Python 3",
   "language": "python",
   "name": "python3"
  },
  "language_info": {
   "codemirror_mode": {
    "name": "ipython",
    "version": 3
   },
   "file_extension": ".py",
   "mimetype": "text/x-python",
   "name": "python",
   "nbconvert_exporter": "python",
   "pygments_lexer": "ipython3",
   "version": "3.6.0"
  }
 },
 "nbformat": 4,
 "nbformat_minor": 2
}
